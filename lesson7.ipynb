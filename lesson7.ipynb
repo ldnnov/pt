{
 "cells": [
  {
   "cell_type": "code",
   "execution_count": 212,
   "metadata": {},
   "outputs": [],
   "source": [
    "import numpy as np\n",
    "import matplotlib.pyplot as plt\n",
    "%matplotlib inline"
   ]
  },
  {
   "cell_type": "markdown",
   "metadata": {},
   "source": [
    "# 1.Даны значения величины заработной платы заемщиков банка (zp) и значения их поведенческого кредитного скоринга (ks): zp = [35, 45, 190, 200, 40, 70, 54, 150, 120, 110], ks = [401, 574, 874, 919, 459, 739, 653, 902, 746, 832]. Используя математические операции, посчитать коэффициенты линейной регрессии, приняв за X заработную плату (то есть, zp - признак), а за y - значения скорингового балла (то есть, ks - целевая переменная). Произвести расчет как с использованием intercept, так и без."
   ]
  },
  {
   "cell_type": "code",
   "execution_count": 213,
   "metadata": {},
   "outputs": [],
   "source": [
    "zp = np.array([35, 45, 190, 200, 40, 70, 54, 150, 120, 110])\n",
    "ks = np.array([401, 574, 874, 919, 459, 739, 653, 902, 746, 832])\n",
    "n = zp.shape[0]"
   ]
  },
  {
   "cell_type": "code",
   "execution_count": 214,
   "metadata": {},
   "outputs": [
    {
     "name": "stdout",
     "output_type": "stream",
     "text": [
      "y = 2.621 * x\n",
      "mse no intercept: 203763.93896082853\n",
      "\n",
      "y = 444.177 + 2.621 * x\n",
      "mse with intercept: 6470.414201176658\n"
     ]
    },
    {
     "data": {
      "image/png": "[encoded data removed]",
      "text/plain": [
       "<Figure size 432x288 with 1 Axes>"
      ]
     },
     "metadata": {
      "needs_background": "light"
     },
     "output_type": "display_data"
    }
   ],
   "source": [
    "plt.scatter(zp, ks, label='original values')\n",
    "\n",
    "#b = ((zp * ks).mean() - zp.mean() * ks.mean()) / (np.square(zp).mean() - np.square(zp.mean()))\n",
    "b = (n * (zp * ks).sum() - zp.sum() * ks.sum()) / (n * np.square(zp).sum() - np.square(zp.sum()))\n",
    "\n",
    "# no intercept\n",
    "ks_hat_no_intercept = b * zp\n",
    "mse_no_intercept = np.square(ks - ks_hat_no_intercept).sum() / n\n",
    "plt.plot(zp, ks_hat_no_intercept, label='no intercept')\n",
    "\n",
    "print(f'y = {round(b, 3)} * x')\n",
    "print(\"mse no intercept:\", mse_no_intercept)\n",
    "print()\n",
    "\n",
    "# with intercept\n",
    "a = ks.mean() - b * zp.mean()\n",
    "\n",
    "ks_hat = a + b * zp\n",
    "mse = np.square(ks - ks_hat).sum() / n\n",
    "plt.plot(zp, ks_hat, label='intercept')\n",
    "\n",
    "print(f'y = {round(a, 3)} + {round(b, 3)} * x')\n",
    "print(\"mse with intercept:\", mse)\n",
    "\n",
    "\n",
    "plt.legend(loc='lower right',\n",
    "           ncol=1,)\n",
    "\n",
    "plt.show()"
   ]
  },
  {
   "cell_type": "markdown",
   "metadata": {},
   "source": [
    "# 2.Посчитать коэффициент линейной регрессии при заработной плате (zp), используя градиентный спуск (без intercept)."
   ]
  },
  {
   "cell_type": "code",
   "execution_count": 215,
   "metadata": {},
   "outputs": [],
   "source": [
    "def mse_(b1, x, y, n):\n",
    "    return float(np.square(np.sum(b1 * x - y)) / n)"
   ]
  },
  {
   "cell_type": "code",
   "execution_count": 216,
   "metadata": {},
   "outputs": [
    {
     "name": "stdout",
     "output_type": "stream",
     "text": [
      "y = 5.89 * x, mse=126950.268\n"
     ]
    }
   ],
   "source": [
    "alpha = 1e-5\n",
    "b1 = 1\n",
    "\n",
    "for i in range(100):\n",
    "    b1 -= alpha * 2 * np.sum((b1 * zp - ks) * zp) / n\n",
    "\n",
    "    # if i % 5 == 0:\n",
    "    #     print(f'Iter {i}, B1={b1}\\t, mse={mse_(b1, zp, ks, n)}')\n",
    "\n",
    "mse_grad = mse_(b1, zp, ks, n)\n",
    "\n",
    "print(f'y = {round(b1, 3)} * x, mse={round(mse_grad, 3)}')"
   ]
  },
  {
   "cell_type": "markdown",
   "metadata": {},
   "source": [
    "# 3. В каких случаях для вычисления доверительных интервалов и проверки статистических гипотез используется таблица значений функции Лапласа, а в каких - таблица критических точек распределения Стьюдента?"
   ]
  },
  {
   "cell_type": "markdown",
   "metadata": {},
   "source": [
    "В случае, когда данные имеют нормальное распределение и дисперсия генеральной совокупности известна, используется таблица значений функции Лапласа. В случае данных с нормальным распределением и неизвестной дисперсией генеральной совокупности используется таблица критических точек распределения Стьюдента."
   ]
  },
  {
   "cell_type": "markdown",
   "metadata": {},
   "source": [
    "# 4. Произвести вычисления как в пункте 2, но с вычислением intercept. Учесть, что изменение коэффициентов должно производиться на каждом шаге одновременно (то есть изменение одного коэффициента не должно влиять на изменение другого во время одной итерации)."
   ]
  },
  {
   "cell_type": "code",
   "execution_count": 217,
   "metadata": {},
   "outputs": [],
   "source": [
    "def mse__(b0, b1, x, y, n):\n",
    "    return float(np.square(np.sum(b0 + b1 * x - y)) / n)"
   ]
  },
  {
   "cell_type": "code",
   "execution_count": 218,
   "metadata": {},
   "outputs": [
    {
     "name": "stdout",
     "output_type": "stream",
     "text": [
      "y = 664.35 + 5.89 * x, mse=3043484.935\n"
     ]
    }
   ],
   "source": [
    "alpha = 1e-5\n",
    "betha = 1e-3\n",
    "b1 = 1\n",
    "b0 = 3\n",
    "\n",
    "for i in range(150):\n",
    "    b0 -= betha * 2 * np.sum((b0 + zp - ks) * zp) / n\n",
    "\n",
    "    for j in range(100):\n",
    "        b1 -= alpha * 2 * np.sum((b1 * zp - ks) * zp) / n\n",
    "        \n",
    "        # if i % 10 == 0 and j % 33 == 0:\n",
    "        #     print(f'Iter {i}:{j}\\t, B0={b0}\\t, B1={b1}\\t, mse={mse__(b0, b1, zp, ks, n)}')\n",
    "        \n",
    "mse_grad = mse__(b0, b1, zp, ks, n)\n",
    "\n",
    "print(f'y = {round(b0, 3)} + {round(b1, 3)} * x, mse={round(mse_grad, 3)}')"
   ]
  }
 ],
 "metadata": {
  "kernelspec": {
   "display_name": "Python 3",
   "language": "python",
   "name": "python3"
  },
  "language_info": {
   "codemirror_mode": {
    "name": "ipython",
    "version": 3
   },
   "file_extension": ".py",
   "mimetype": "text/x-python",
   "name": "python",
   "nbconvert_exporter": "python",
   "pygments_lexer": "ipython3",
   "version": "3.7.3"
  }
 },
 "nbformat": 4,
 "nbformat_minor": 2
}
