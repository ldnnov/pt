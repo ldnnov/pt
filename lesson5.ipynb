{
 "cells": [
  {
   "cell_type": "code",
   "execution_count": 74,
   "metadata": {},
   "outputs": [],
   "source": [
    "from math import sqrt\n",
    "from numpy import std, mean"
   ]
  },
  {
   "cell_type": "markdown",
   "metadata": {},
   "source": [
    "# 1. Известно, что генеральная совокупность распределена нормально со средним квадратическим отклонением, равным 16. Найти доверительный интервал для оценки математического ожидания a с надежностью 0.95, если выборочная средняя M = 80, а объем выборки n = 256."
   ]
  },
  {
   "cell_type": "code",
   "execution_count": 75,
   "metadata": {},
   "outputs": [
    {
     "name": "stdout",
     "output_type": "stream",
     "text": [
      "доверительный интервал [78.04;81.96]\n"
     ]
    }
   ],
   "source": [
    "d = 16\n",
    "a = 0.05\n",
    "m = 80\n",
    "n = 256\n",
    "\n",
    "z = 1.96\n",
    "\n",
    "x1 = m - (z * 16 / sqrt(n))\n",
    "x2 = m + (z * 16 / sqrt(n))\n",
    "\n",
    "print(\"доверительный интервал [\", x1, \";\", x2, \"]\", sep=\"\")"
   ]
  },
  {
   "cell_type": "markdown",
   "metadata": {},
   "source": [
    "# 2. В результате 10 независимых измерений некоторой величины X, выполненных с одинаковой точностью, получены опытные данные: 6.9, 6.1, 6.2, 6.8, 7.5, 6.3, 6.4, 6.9, 6.7, 6.1 Предполагая, что результаты измерений подчинены нормальному закону распределения вероятностей, оценить истинное значение величины X при помощи доверительного интервала, покрывающего это значение с доверительной вероятностью 0,95."
   ]
  },
  {
   "cell_type": "code",
   "execution_count": 76,
   "metadata": {},
   "outputs": [
    {
     "name": "stdout",
     "output_type": "stream",
     "text": [
      "доверительный интервал [6.268;6.912]\n"
     ]
    }
   ],
   "source": [
    "n = 10\n",
    "data = [6.9, 6.1, 6.2, 6.8, 7.5, 6.3, 6.4, 6.9, 6.7, 6.1]\n",
    "a = 0.05\n",
    "d = std(data, ddof=1)\n",
    "m = mean(data)\n",
    "t = 2.262\n",
    "\n",
    "x1 = round(m - (t * d / sqrt(n)), 3)\n",
    "x2 = round(m + (t * d / sqrt(n)), 3)\n",
    "\n",
    "print(\"доверительный интервал [\", x1, \";\", x2, \"]\", sep=\"\")"
   ]
  },
  {
   "cell_type": "markdown",
   "metadata": {},
   "source": [
    "# 3,4 задачи решать через тестирование гипотезы"
   ]
  },
  {
   "cell_type": "markdown",
   "metadata": {},
   "source": [
    "# 3. Утверждается, что шарики для подшипников, изготовленные автоматическим станком, имеют средний диаметр 17 мм. Используя односторонний критерий с α=0,05, проверить эту гипотезу, если в выборке из n=100 шариков средний диаметр оказался равным 17.5 мм, а дисперсия известна и равна 4 кв.мм."
   ]
  },
  {
   "cell_type": "code",
   "execution_count": 77,
   "metadata": {},
   "outputs": [
    {
     "name": "stdout",
     "output_type": "stream",
     "text": [
      "2.5\n",
      "Гипотеза H1 верна, при a = 0.05\n"
     ]
    }
   ],
   "source": [
    "a = 0.05\n",
    "m0 = 17\n",
    "m1 = 17.5\n",
    "d = 4\n",
    "n = 100\n",
    "\n",
    "zt = 1.645\n",
    "zn = (m1 - m0) / (sqrt(d) / sqrt(n))\n",
    "print(zn)\n",
    "if zn > zt:\n",
    "    print(\"Гипотеза H1 верна, при a =\", a)"
   ]
  },
  {
   "cell_type": "markdown",
   "metadata": {},
   "source": [
    "# 4.Продавец утверждает, что средний вес пачки печенья составляет 200 г. Из партии извлечена выборка из 10 пачек. Вес каждой пачки составляет: 202, 203, 199, 197, 195, 201, 200, 204, 194, 190. Известно, что их веса распределены нормально. Верно ли утверждение продавца, если учитывать, что доверительная вероятность равна 99%? "
   ]
  },
  {
   "cell_type": "code",
   "execution_count": 78,
   "metadata": {},
   "outputs": [
    {
     "name": "stdout",
     "output_type": "stream",
     "text": [
      "-1.0651074037450896\n",
      "Гипотеза H0 верна, при a = 0.01\n"
     ]
    }
   ],
   "source": [
    "weight = [202, 203, 199, 197, 195, 201, 200, 204, 194, 190]\n",
    "a = 0.01\n",
    "m0 = 200\n",
    "m1 = mean(weight)\n",
    "d = std(weight, ddof=1)\n",
    "n = 10\n",
    "\n",
    "# t = +-3.250\n",
    "t1 = -3.250\n",
    "t2 = 3.250\n",
    "\n",
    "tn = (m1 - m0) / (d / sqrt(n))\n",
    "print(tn)\n",
    "\n",
    "if tn > t1 and tn < t2:\n",
    "    print(\"Гипотеза H0 верна, при a =\", a)"
   ]
  }
 ],
 "metadata": {
  "kernelspec": {
   "display_name": "Python 3",
   "language": "python",
   "name": "python3"
  },
  "language_info": {
   "codemirror_mode": {
    "name": "ipython",
    "version": 3
   },
   "file_extension": ".py",
   "mimetype": "text/x-python",
   "name": "python",
   "nbconvert_exporter": "python",
   "pygments_lexer": "ipython3",
   "version": "3.7.3"
  }
 },
 "nbformat": 4,
 "nbformat_minor": 2
}
