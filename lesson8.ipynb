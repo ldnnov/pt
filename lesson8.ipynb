{
 "cells": [
  {
   "cell_type": "code",
   "execution_count": 5,
   "metadata": {},
   "outputs": [],
   "source": [
    "import numpy as np\n",
    "import matplotlib.pyplot as plt"
   ]
  },
  {
   "cell_type": "markdown",
   "metadata": {},
   "source": [
    "# Провести дисперсионный анализ для определения того, есть ли различия среднего роста среди взрослых футболистов, хоккеистов и штангистов. Даны значения роста в трех группах случайно выбранных спортсменов: Футболисты: 173, 175, 180, 178, 177, 185, 183, 182. Хоккеисты: 177, 179, 180, 188, 177, 172, 171, 184, 180. Штангисты: 172, 173, 169, 177, 166, 180, 178, 177, 172, 166, 170."
   ]
  },
  {
   "cell_type": "code",
   "execution_count": 60,
   "metadata": {},
   "outputs": [
    {
     "data": {
      "image/png": "[encoded data removed]",
      "text/plain": [
       "<Figure size 432x288 with 1 Axes>"
      ]
     },
     "metadata": {
      "needs_background": "light"
     },
     "output_type": "display_data"
    },
    {
     "name": "stdout",
     "output_type": "stream",
     "text": [
      "Y = 176.46428571428572\n",
      "S = 830.9642857142854\n",
      "Sf = 253.9074675324678\n",
      "Sost = 577.0568181818181\n",
      "Df = 126.9537337662339\n",
      "Dost = 17.609172077922075\n",
      "Fn =  7.209523151029071\n",
      "\n",
      "Различия среднего роста присутствуют при a = 0.05\n"
     ]
    }
   ],
   "source": [
    "data = {\n",
    "    'fb': np.array([173, 175, 180, 178, 177, 185, 183, 182]),\n",
    "    'hk': np.array([177, 179, 180, 188, 177, 172, 171, 184, 180]), \n",
    "    'wl': np.array([172, 173, 169, 177, 166, 180, 178, 177, 172, 166, 170])\n",
    "}\n",
    "\n",
    "full_group = np.hstack([d for d in data.values()])\n",
    "# H0 = u1 + u2 + u3\n",
    "\n",
    "plt.scatter(['fotball']*data['fb'].shape[0], data['fb'])\n",
    "plt.scatter(['hockay']*data['hk'].shape[0], data['hk'])\n",
    "plt.scatter(['weightlift']*data['wl'].shape[0], data['wl'])\n",
    "plt.show()\n",
    "\n",
    "a = 0.05\n",
    "Ft = 3.38\n",
    "\n",
    "\n",
    "Y = full_group.mean()\n",
    "print('Y =', Y)\n",
    "\n",
    "S = np.square(full_group - Y).sum()\n",
    "print('S =', S)\n",
    "\n",
    "Sf = 0\n",
    "Sost = 0\n",
    "for group in data.values():\n",
    "    y_group = group.mean()\n",
    "\n",
    "    Sf += np.square((y_group - Y)) * group.shape[0]\n",
    "\n",
    "    for val in group:\n",
    "        Sost += np.square(val - y_group)\n",
    "print('Sf =', Sf)\n",
    "print('Sost =', Sost)\n",
    "\n",
    "Df = Sf / (len(data) - 1)\n",
    "print('Df =', Df)\n",
    "\n",
    "Dost = Sost / full_group.shape[0] - len(data)\n",
    "print('Dost =', Dost)\n",
    "\n",
    "Fn = Df / Dost\n",
    "print('Fn = ',Fn)\n",
    "\n",
    "print()\n",
    "\n",
    "if Fn > Ft:\n",
    "    print(\"Различия среднего роста присутствуют при a = 0.05\")\n",
    "else:\n",
    "    print(\"Различия среднего роста отсутствуют при a = 0.05\")\n"
   ]
  }
 ],
 "metadata": {
  "kernelspec": {
   "display_name": "Python 3",
   "language": "python",
   "name": "python3"
  },
  "language_info": {
   "codemirror_mode": {
    "name": "ipython",
    "version": 3
   },
   "file_extension": ".py",
   "mimetype": "text/x-python",
   "name": "python",
   "nbconvert_exporter": "python",
   "pygments_lexer": "ipython3",
   "version": "3.7.3"
  }
 },
 "nbformat": 4,
 "nbformat_minor": 2
}
