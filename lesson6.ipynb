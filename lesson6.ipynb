{
 "cells": [
  {
   "cell_type": "code",
   "execution_count": 1,
   "metadata": {},
   "outputs": [],
   "source": [
    "from math import sqrt\n",
    "from numpy import std, mean, cov, corrcoef, array\n",
    "from scipy.stats import norm\n",
    "from scipy.stats import t"
   ]
  },
  {
   "cell_type": "markdown",
   "metadata": {},
   "source": [
    "# 1) Даны значения величины заработной платы заемщиков банка (zp) и значения их поведенческого кредитного скоринга (ks): zp = [35, 45, 190, 200, 40, 70, 54, 150, 120, 110], ks = [401, 574, 874, 919, 459, 739, 653, 902, 746, 832]. Найдите ковариацию этих двух величин с помощью элементарных действий, а затем с помощью функции cov из numpy Полученные значения должны быть равны. Найдите коэффициент корреляции Пирсона с помощью ковариации и среднеквадратичных отклонений двух признаков, а затем с использованием функций из библиотек numpy и pandas."
   ]
  },
  {
   "cell_type": "code",
   "execution_count": 2,
   "metadata": {},
   "outputs": [
    {
     "name": "stdout",
     "output_type": "stream",
     "text": [
      "ручной подсчет ковариации: 9157.839999999997\n",
      "подсчет ковариации с numpy: 9157.840000000002\n",
      "\n",
      "ручной подсчет корреляции: 0.8874900920739158\n",
      "подсчет корреляции с numpy: 0.8874900920739164\n"
     ]
    }
   ],
   "source": [
    "zp = array([35, 45, 190, 200, 40, 70, 54, 150, 120, 110])\n",
    "ks = array([401, 574, 874, 919, 459, 739, 653, 902, 746, 832])\n",
    "\n",
    "\n",
    "cov_ = mean(zp * ks) - mean(zp) * mean(ks)\n",
    "print(\"ручной подсчет ковариации:\", cov_)\n",
    "\n",
    "cov_np = cov(zp, ks, ddof=0)[1][0]\n",
    "print(\"подсчет ковариации с numpy:\", cov_np)\n",
    "\n",
    "print()\n",
    "r = cov_ / (zp.std() * ks.std())\n",
    "print(\"ручной подсчет корреляции:\", r)\n",
    "\n",
    "r_np = corrcoef(zp, ks)[1][0]\n",
    "print(\"подсчет корреляции с numpy:\", r_np)"
   ]
  },
  {
   "cell_type": "markdown",
   "metadata": {},
   "source": [
    "# 2) Измерены значения IQ выборки студентов, обучающихся в местных технических вузах: 131, 125, 115, 122, 131, 115, 107, 99, 125, 111. Известно, что в генеральной совокупности IQ распределен нормально. Найдите доверительный интервал для математического ожидания с надежностью 0.95."
   ]
  },
  {
   "cell_type": "code",
   "execution_count": 3,
   "metadata": {},
   "outputs": [
    {
     "name": "stdout",
     "output_type": "stream",
     "text": [
      "доверительный интервал [110.55608365158724;125.64391634841274]\n"
     ]
    }
   ],
   "source": [
    "data = [131, 125, 115, 122, 131, 115, 107, 99, 125, 111]\n",
    "a = 0.05\n",
    "n = len(data)\n",
    "d = std(data, ddof=1)\n",
    "m = mean(data)\n",
    "\n",
    "t_ = abs(t.ppf(a / 2, n - 1))\n",
    "\n",
    "x1 = m - (t_ * d / sqrt(n))\n",
    "x2 = m + (t_ * d / sqrt(n))\n",
    "\n",
    "print(\"доверительный интервал [\", x1, \";\", x2, \"]\", sep=\"\")"
   ]
  },
  {
   "cell_type": "markdown",
   "metadata": {},
   "source": [
    "# 3) Известно, что рост футболистов в сборной распределен нормально с дисперсией генеральной совокупности, равной 25 кв.см. Объем выборки равен 27, среднее выборочное составляет 174.2. Найдите доверительный интервал для математического ожидания с надежностью 0.95."
   ]
  },
  {
   "cell_type": "code",
   "execution_count": 4,
   "metadata": {},
   "outputs": [
    {
     "name": "stdout",
     "output_type": "stream",
     "text": [
      "доверительный интервал [172.3140237765397;176.08597622346028]\n"
     ]
    }
   ],
   "source": [
    "d = 25\n",
    "a = 0.05\n",
    "m = 174.2\n",
    "n = 27\n",
    "\n",
    "z = abs(norm.ppf(a / 2))\n",
    "\n",
    "x1 = m - (z * sqrt(d) / sqrt(n))\n",
    "x2 = m + (z * sqrt(d) / sqrt(n))\n",
    "\n",
    "print(\"доверительный интервал [\", x1, \";\", x2, \"]\", sep=\"\")"
   ]
  }
 ],
 "metadata": {
  "kernelspec": {
   "display_name": "Python 3",
   "language": "python",
   "name": "python3"
  },
  "language_info": {
   "codemirror_mode": {
    "name": "ipython",
    "version": 3
   },
   "file_extension": ".py",
   "mimetype": "text/x-python",
   "name": "python",
   "nbconvert_exporter": "python",
   "pygments_lexer": "ipython3",
   "version": "3.7.3"
  }
 },
 "nbformat": 4,
 "nbformat_minor": 2
}
